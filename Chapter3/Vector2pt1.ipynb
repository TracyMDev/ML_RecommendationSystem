{
  "cells": [
    {
      "metadata": {
        "trusted": true
      },
      "cell_type": "code",
      "source": "# usually in programming we would use a loop to perform an operation on ecah item in an array\nratings = [5,2,3,3,4,5,5,1,5,1,3,4]\n\nfor i, value in enumerate(ratings):\n    print (\"updating rating {}\".format(i))\n    ratings[i] = value * 2\n    \nprint(ratings)",
      "execution_count": 2,
      "outputs": [
        {
          "output_type": "stream",
          "text": "updating rating 0\nupdating rating 1\nupdating rating 2\nupdating rating 3\nupdating rating 4\nupdating rating 5\nupdating rating 6\nupdating rating 7\nupdating rating 8\nupdating rating 9\nupdating rating 10\nupdating rating 11\n[10, 4, 6, 6, 8, 10, 10, 2, 10, 2, 6, 8]\n",
          "name": "stdout"
        }
      ]
    },
    {
      "metadata": {
        "trusted": true
      },
      "cell_type": "code",
      "source": "# with numpy library it can be done in parallel. (vector operations)\n\nimport numpy as np\n\nratings = np.array([5,2,3,3,4,5,5,1,5,1,3,4])\n\nratings = ratings * 2\n\nprint(ratings)",
      "execution_count": 3,
      "outputs": [
        {
          "output_type": "stream",
          "text": "[10  4  6  6  8 10 10  2 10  2  6  8]\n",
          "name": "stdout"
        }
      ]
    },
    {
      "metadata": {
        "trusted": true
      },
      "cell_type": "code",
      "source": "",
      "execution_count": null,
      "outputs": []
    }
  ],
  "metadata": {
    "kernelspec": {
      "name": "python36",
      "display_name": "Python 3.6",
      "language": "python"
    },
    "language_info": {
      "mimetype": "text/x-python",
      "nbconvert_exporter": "python",
      "name": "python",
      "pygments_lexer": "ipython3",
      "version": "3.6.6",
      "file_extension": ".py",
      "codemirror_mode": {
        "version": 3,
        "name": "ipython"
      }
    }
  },
  "nbformat": 4,
  "nbformat_minor": 2
}